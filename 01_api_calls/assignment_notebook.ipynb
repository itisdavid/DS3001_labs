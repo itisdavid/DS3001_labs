{
  "cells": [
    {
      "cell_type": "markdown",
      "metadata": {
        "id": "Yi7xzykjgGP9"
      },
      "source": [
        "## Lab 1: Getting data from API's\n",
        "\n",
        "A great source of data and Pandas practice is getting data from the Internet. It is not going to come in a .csv file, though: It will be a stream of records, typically in XML (eXtensible Mark-up Language) or JSON (JavaScript Object Notation) format.\n",
        "\n",
        "We'll look at a very simple API and some useful code chunks for getting and analyzing data, and then you'll take a look at the APIs available from the Federal government as the main work for your lab.\n"
      ]
    },
    {
      "cell_type": "markdown",
      "metadata": {
        "id": "Ko09F0g3gGP-"
      },
      "source": [
        "## API Queries\n",
        "\n",
        "The core programming skill of the activity is to learn to query an online Application Programmer Interface (API). It is a similar experience to browsing the Internet, and initial results can be displayed the web browser. When visiting a web page, the address bar typically contains something like\n",
        "$$\n",
        "\\texttt{https://} \\underbrace{\\texttt{www.}}_{\\text{World Wide Web subdomain}} \\texttt{domain}. \\underbrace{\\texttt{tld}}_{\\text{Top level domain}},\n",
        "$$\n",
        "where the https:// specifies the protocol, www. specifies the world-wide-web subdomain, the domain is the entity, and the top-level domain .tld is typically something like .com or .gov, but is increasingly varied as ICANN releases more TLD's into circulation.\n",
        "\n",
        "With an online API, the user instead enters a url that goes directly to an API subdomain\n",
        "$$\n",
        "\\texttt{https://} \\underbrace{\\texttt{api.}}_{\\text{Application programmer interface}} \\texttt{domain.tld}/ \\texttt{(the query)}\n",
        "$$\n",
        "or accesses REST services as\n",
        "$$\n",
        "\\texttt{https://www.domain.tld} \\underbrace{\\texttt{/REST}}_{\\text{Accesses REST services}}/ \\texttt{(the query)}\n",
        "$$\n",
        "This accesses data on the domain's servers and returns the result directly to the user.\n",
        "\n",
        "The query itself is typically a string beginning with a question mark ?, followed by a series of expressions joined by ampersands &. For example,\n",
        "\n",
        "`?ProductType=Phone\\&Manufacturer=Apple`\n",
        "\n",
        "passes a query requesting all records for which the product type is recorded as phone and the manufacturer is recorded as Apple. Some API's include date ranges and other, more complex requests.\n",
        "\n",
        "To get started, a simple warm-up is to use the API from saferproducts.gov, which has a simple and intuitive structure for queries, and the results are simple enough to look at in the browser. Typing this in the address bar in a browser should yield about thirty records:\n",
        "\n",
        "    https://www.saferproducts.gov/RestWebServices/Recall?format=json&ProductType=Phone  \n",
        "\n",
        "with the first being, on this occasion:\n",
        "\n",
        "    \"RecallID\": 7856,\n",
        "    \"RecallNumber\": \"16266\",\n",
        "    \"RecallDate\": \"2016-09-15T00:00:00\",\n",
        "    \"Description\": \"This recall involves the Samsung Galaxy Note7 smartphone sold before\n",
        "    September 15, 2016. The recalled devices have a 5.7 inch screen and were sold in the\n",
        "    following colors: black onyx, blue coral, gold platinum and silver titanium with a\n",
        "    matching stylus. Samsung is printed on the top front of the phone and Galaxy Note7\n",
        "    is printed on the back of the phone. To determine if your phone has been recalled,\n",
        "    locate the IMEI number on the back of the phone or the packaging, and enter the IMEI\n",
        "    number into the online registration site www.samsung.com or call Samsung toll-free\n",
        "    at 844-365-6197.\",\n",
        "    \"URL\": \"https://www.cpsc.gov/Recalls/2016/Samsung-Recalls-Galaxy-Note7-Smartphones\",\n",
        "    \"Title\": \"Samsung Recalls Galaxy Note7 Smartphones Due to Serious Fire and Burn Hazards\",\n",
        "    \"ConsumerContact\": \"Contact your wireless carrier or place of purchase, call Samsung\n",
        "    toll-free at 844-365-6197 anytime, or go online at www.samsung.com.\",\n",
        "    \"LastPublishDate\": \"2016-10-27T00:00:00\"\n",
        "\n",
        "The query itself in this case is:\n",
        "\n",
        "    ?format=json&ProductType=Phone  \n",
        "\n",
        "The quert requests all of the recalls in JavaScript Object Notation (json) format, where the `ProductType` variable is equal to `Phone`. In addition to `ProductType`, other options include:\n",
        "\n",
        "    RecallID,\n",
        "    RecallNumber,\n",
        "    RecallDateStart,\n",
        "    RecallDateEnd,\n",
        "    RecallURL,\n",
        "    LastPublishDateStart,\n",
        "    LastPublishDateEnd,\n",
        "    RecallTitle,\n",
        "    ConsumerContact,\n",
        "    RecallDescription,\n",
        "    ProductName,\n",
        "    ProductDescription,\n",
        "    ProductModel,\n",
        "    ProductType,\n",
        "    InconjunctionURL,\n",
        "    ImageURL,\n",
        "    Injury,\n",
        "    Manufacturer,\n",
        "    Retailer,\n",
        "    Importer,\n",
        "    Distributor,\n",
        "    ManufacturerCountry,\n",
        "    UPC,\n",
        "    Hazard,\n",
        "    Remedy,\n",
        "    RemedyOption\n",
        "\n",
        "**1. Practice writing queries using the saferproducts.gov API and your web browser.**"
      ]
    },
    {
      "cell_type": "markdown",
      "source": [
        "https://www.saferproducts.gov/RestWebServices/Recall?format=json&ProductName=Apple\n",
        "\n",
        "https://www.saferproducts.gov/RestWebServices/Recall?format=json&Manufacturer=Samsung\n",
        "\n",
        "\n",
        "https://www.saferproducts.gov/RestWebServices/Recall?format=json&Retailer=Walmart"
      ],
      "metadata": {
        "id": "NrPBMWSNNNo5"
      }
    },
    {
      "cell_type": "markdown",
      "metadata": {
        "id": "8Zwfi6ndgGP-"
      },
      "source": [
        "## Accessing API's with Python\n",
        "\n",
        "Anytime you use a computer to access resources on the Internet, you will likely run into problems. There are many options, but two with low coding overhead: The `requests` and `urrlib.requests` packages.\n",
        "\n",
        "The following code chunk uses the `requests` package to get the same kind of data that was being displayed in the browser, but in an interactive Python session:\n",
        "\n",
        "    import requests\n",
        "    url = 'https://www.saferproducts.gov/RestWebServices/' # Location of the API\n",
        "    query = 'Recall?format=json&ProductType=Exercise' # The query\n",
        "    header = {'User-Agent': 'Mozilla/5.0 (Windows NT 10.0; Win64; x64; rv:124.0)\n",
        "        Gecko/20100101 Firefox/124.0'} # The user-agent to avoid being blocked\n",
        "    raw = requests.get(url+query,headers=header) # Query the database\n",
        "    data = raw.json() # Convert data from json to dictionary\n",
        "\n",
        "To make the code easier to read, it separates the url and the query into two different strings, then concatenates them in the GET request. This makes it easier to edit the query, as well as suggests a simple way to loop over a number of queries that might be sent to the same API.\n",
        "\n",
        "Many resources are designed to block access from particular kinds of users. In order to circumvent these obstacles, you can specify a `header` dictionary that presents the query to the server as coming from a hypothetical and common user. In this case, the header presents the query as coming from a Firefox browser from a Windows computer, rather than something like `python-requests/3.12.1`. This problem appears generally in scraping data from the web, and can grind the process to a halt. For whatever reason, I have been blocked and gotten 403 errors with the `requests` package, which motivated me to prepare a second alternative that seems more robust:\n",
        "\n",
        "    import urllib.request\n",
        "    import json\n",
        "    url = 'https://www.saferproducts.gov/RestWebServices/' # Location of the API\n",
        "    query = 'Recall?format=json&ProductType=Exercise' # The query\n",
        "    response = urllib.request.urlopen(url+query)\n",
        "    response_bytes = response.read()\n",
        "    data = json.loads(response_bytes) # Convert response to json\n",
        "    response.close()\n",
        "\n",
        "This is a bit more code and some steps are a bit less human-friendly, but seems to work a bit more reliably than `requests`.\n",
        "\n",
        "**2. Practice with the saferproducts.gov API and the above code in a notebook to see how API's work, in general.**"
      ]
    },
    {
      "cell_type": "code",
      "source": [
        "import urllib.request\n",
        "import json\n",
        "url = 'https://www.saferproducts.gov/RestWebServices/' # Location of the API\n",
        "query = 'Recall?format=json&ProductName=Apple' # The query\n",
        "response = urllib.request.urlopen(url+query)\n",
        "response_bytes = response.read()\n",
        "data = json.loads(response_bytes) # Convert response to json\n",
        "print(data)\n",
        "response.close()"
      ],
      "metadata": {
        "id": "sEFekoP-O-FI",
        "outputId": "0d1adb92-7a1d-426e-c8b4-503a6fc70df1",
        "colab": {
          "base_uri": "https://localhost:8080/"
        }
      },
      "execution_count": 5,
      "outputs": [
        {
          "output_type": "stream",
          "name": "stdout",
          "text": [
            "[{'RecallID': 9225, 'RecallNumber': '22073', 'RecallDate': '2022-02-09T00:00:00', 'Description': \"This recall involves Adam the Apple children's stackable toys. The toys have 15 wooden pieces with a story written on each piece. They measure about 6 inches tall and 6.5 inches wide when stacked and look like a happy-faced red apple with a leaf atop. The phrases Adam The Apple, By Chris Bayon and Illustrated by Patrick Carlson are written on the leaf.\", 'URL': 'https://www.cpsc.gov/Recalls/2022/Stack-Em-Up-Books-Recalls-Childrens-Stackable-Toys-Due-to-Violation-of-the-Federal-Lead-Paint-Ban-and-Lead-Poisoning-Hazard', 'Title': \"Stack Em' Up Books Recalls Children's Stackable Toys Due to Violation of the Federal Lead Paint Ban and Lead Poisoning Hazard\", 'ConsumerContact': \"Stack Em' Up Books collect at 267-987-3328 from 9 a.m. to 5 p.m. ET, email at contact@stackemupbooks.com, or online at www.stackemupbooks.com/pages/cpsc-volutary-recall-information or stackemupbooks.com and click on the CPSC Voluntary Recall 2021-2022 link at the bottom of the page for more information.\", 'LastPublishDate': '2022-02-09T00:00:00', 'Products': [{'Name': \"Adam the Apple™ Children's Stackable Toys\", 'Description': '', 'Model': '', 'Type': '', 'CategoryID': '', 'NumberOfUnits': 'About 200'}], 'Inconjunctions': [], 'Images': [{'URL': 'https://www.cpsc.gov/s3fs-public/pic--1_4.png', 'Caption': \"Recalled Adam the Apple children's stackable toy - stacked\"}, {'URL': 'https://www.cpsc.gov/s3fs-public/pic--2_4.png', 'Caption': \"Recalled Adam the Apple children's stackable toy - pieces\"}, {'URL': 'https://www.cpsc.gov/s3fs-public/pic--3_3.png', 'Caption': 'Adam the Apple, By Chris Bayon and Illustrated by Patrick Carlson are written on the leaf'}], 'Injuries': [{'Name': 'None reported'}], 'Manufacturers': [], 'Retailers': [{'Name': 'Online at www.stackemupbooks.com from June 2021 through November 2021 and at the Philadelphia Gift Show in July 2021 for about $25; products were also given away at the Philadelphia Gift Show.', 'CompanyID': ''}], 'Importers': [{'Name': \"Stack Em' Up Books Inc., of Langhorne, Pa.\", 'CompanyID': ''}], 'Distributors': [], 'SoldAtLabel': None, 'ManufacturerCountries': [{'Country': 'India'}], 'ProductUPCs': [], 'Hazards': [{'Name': 'Surface paint on the wooden toys contains levels of lead that exceed the federal lead paint ban. Lead is toxic if ingested by young children and can cause adverse health effects.', 'HazardType': '', 'HazardTypeID': ''}], 'Remedies': [{'Name': \"Consumers should immediately take the recalled toys away from children and contact Stack Em' Up Books to receive a pre-paid shipping label to return the recalled product, regardless of whether they purchased the product or received it as a free giveaway. Consumers that purchased the product at www.stackemupbooks.com or the Philadelphia Gift Show will receive a full refund once they return the product.\"}], 'RemedyOptions': [{'Option': 'Refund'}]}, {'RecallID': 8573, 'RecallNumber': '19132', 'RecallDate': '2019-06-05T00:00:00', 'Description': 'This recall involves three-prong AC wall plug adapters included in the Apple World Travel Adapter Kit sold before February 2015. The kits contain three-prong and two-prong AC wall plug adapters that fit different electrical outlets worldwide. The recalled adapters were made for use primarily in the United Kingdom, Singapore, and Hong Kong and were also sold with Mac computers and iOS devices. The recalled three-prong AC wall plug adapters are white with no letters on the inside slot where it attaches to an Apple power adapter. Redesigned adapters are white with gray on the inside portion that attaches to the power adapter.', 'URL': 'https://www.cpsc.gov/Recalls/2019/Apple-Recalls-Three-Prong-Wall-Plug-Adapters-Included-in-World-Travel-Adapter-Kit-Due-to-Risk-of-Electric-Shock', 'Title': 'Apple Recalls Three-Prong Wall Plug Adapters Included in World Travel Adapter Kit Due to Risk of Electric Shock', 'ConsumerContact': 'Apple at 800-275-2273 anytime, or online at www.apple.com, click on Support and then click on Apple Three-Prong AC Wall Plug Adapter Recall Program at the bottom of the page.', 'LastPublishDate': '2019-06-05T00:00:00', 'Products': [{'Name': 'Apple AC World Travel Adapter Kits', 'Description': '', 'Model': '', 'Type': '', 'CategoryID': '', 'NumberOfUnits': 'About 814,000 (in addition, about 81,000 were sold in Canada)'}], 'Inconjunctions': [{'URL': 'http://healthycanadians.gc.ca/recall-alert-rappel-avis/hc-sc/2019/69690r-eng.php'}], 'Images': [{'URL': 'https://www.cpsc.gov/s3fs-public/1_22.jpg', 'Caption': 'Apple World Travel Adapter Kit'}, {'URL': 'https://www.cpsc.gov/s3fs-public/2_0.PNG', 'Caption': 'Recalled Three-Prong AC Wall Plug Adapter'}, {'URL': 'https://www.cpsc.gov/s3fs-public/3.PNG', 'Caption': 'Three-Prong AC Wall Plug Adapter Replacement'}], 'Injuries': [{'Name': 'Apple has received six reports from other countries of wall plug adapters breaking and consumers receiving shocks, including two reports of consumers who were medically evaluated and released without need for further medical treatment. No reports of incidents or injuries were reported by U.S. consumers.'}], 'Manufacturers': [], 'Retailers': [{'Name': 'Apple stores and other home electronics stores nationwide, and online at Apple.com from January 2003 through January 2015 for about $30.', 'CompanyID': ''}], 'Importers': [{'Name': 'Apple Inc., of Cupertino, Calif.', 'CompanyID': ''}], 'Distributors': [], 'SoldAtLabel': None, 'ManufacturerCountries': [{'Country': 'China'}], 'ProductUPCs': [], 'Hazards': [{'Name': 'The three-prong AC wall plug adapters can break and expose the metal portion of the adapter, posing an electric shock risk.', 'HazardType': '', 'HazardTypeID': ''}], 'Remedies': [{'Name': 'Consumers should immediately stop using the recalled wall plug adapters and contact Apple for free replacement adapters.'}], 'RemedyOptions': [{'Option': 'Replace'}]}, {'RecallID': 8563, 'RecallNumber': '19125', 'RecallDate': '2019-05-23T00:00:00', 'Description': 'This recall involves Pineapple Corer & Slicers sold under Fabulous Home brand. The corer & slicer is white with a black top and made mostly from plastic with a metal blade. It works much like a cork screw to core and slice pineapples.', 'URL': 'https://www.cpsc.gov/Recalls/2019/Far-East-Brokers-Recalls-Pineapple-Corer-and-Slicers-Due-to-Laceration-Hazard', 'Title': 'Far East Brokers Recalls Pineapple Corer & Slicers Due to Laceration Hazard', 'ConsumerContact': 'Far East Brokers & Consultants at 800-619-0487 from 8 a.m. to 5 p.m. ET or email at customerservice@fareastbrokers.com or online at https://fareastbrokers.com/ and click on “Product Recalls” and then “Pineapple Corer & Slicer” for more information.', 'LastPublishDate': '2019-05-23T00:00:00', 'Products': [{'Name': 'Fabulous Home Pineapple Corer & Slicers', 'Description': '', 'Model': '', 'Type': '', 'CategoryID': '', 'NumberOfUnits': 'About 2,300'}], 'Inconjunctions': [], 'Images': [{'URL': 'https://www.cpsc.gov/s3fs-public/1_13.png', 'Caption': 'Fabulous Home Pineapple Corer & Slicer'}, {'URL': 'https://www.cpsc.gov/s3fs-public/2_12.png', 'Caption': 'Fabulous Home Pineapple Corer & Slicer packaging'}, {'URL': 'https://www.cpsc.gov/s3fs-public/3_10.png', 'Caption': 'Fabulous Home Pineapple Corer & Slicer'}], 'Injuries': [{'Name': 'Far East has received one report of the metal blade becoming detached. No injuries have been reported.'}], 'Manufacturers': [{'Name': 'Ningbo Overpass International Trading Co., Ltd, of China.', 'CompanyID': ''}], 'Retailers': [{'Name': \"Coborn's and Bashas grocery stores in Minnesota, South Dakota, Arizona and New Mexico from February 2019 through April 2019 for about $4.\", 'CompanyID': ''}], 'Importers': [{'Name': 'Far East Brokers & Consultants, Inc., of Jacksonville, Fla.', 'CompanyID': ''}], 'Distributors': [], 'SoldAtLabel': None, 'ManufacturerCountries': [{'Country': 'China'}], 'ProductUPCs': [], 'Hazards': [{'Name': 'The metal blade of the slicer can detach, posing a laceration hazard to the consumer.', 'HazardType': '', 'HazardTypeID': ''}], 'Remedies': [{'Name': 'Consumers should immediately stop using the Fabulous Home brand Pineapple Corer & Slicer and contact Far East Brokers for instructions on receiving a full refund'}], 'RemedyOptions': [{'Option': 'Refund'}]}, {'RecallID': 8418, 'RecallNumber': '19005', 'RecallDate': '2018-10-09T00:00:00', 'Description': 'This recall involves decorative driftwood pineapples. They are shaped from tan driftwood spikes, have spiked, galvanized metal leaves at the top and measure approximately 19 inches high by 9.5 inches wide by 9.5 inches in diameter.', 'URL': 'https://www.cpsc.gov/Recalls/2019/Cracker-Barrel-Old-Country-Store-Recalls-Decorative-Pineapples-Due-to-Laceration-Hazard', 'Title': 'Cracker Barrel Old Country Store Recalls Decorative Pineapples Due to Laceration Hazard', 'ConsumerContact': 'Cracker Barrel Old Country Store at 800-333-9566 Monday through Friday from 8 a.m. to 5 p.m. CT or online at www.crackerbarrel.com and click on “Product Recalls.”', 'LastPublishDate': '2018-10-09T00:00:00', 'Products': [{'Name': 'Decorative driftwood pineapples', 'Description': '', 'Model': '', 'Type': '', 'CategoryID': '', 'NumberOfUnits': 'About 1,500'}], 'Inconjunctions': [], 'Images': [{'URL': 'https://www.cpsc.gov/s3fs-public/Screen Shot 2018-10-09 at 9.51.59 AM.png', 'Caption': 'Recalled Decorative driftwood pineapples'}], 'Injuries': [{'Name': 'Cracker Barrel Old Country Store has received two reports of consumers cutting their fingers on the metal leaves on the pineapples, resulting in one injury that required stitches.'}], 'Manufacturers': [], 'Retailers': [{'Name': 'Cracker Barrel Old Country Store locations nationwide and online at www.crackerbarrel.com from June 2018 through August 2018 for about $40.', 'CompanyID': ''}], 'Importers': [{'Name': 'CBOCS Distribution Inc., dba Cracker Barrel Old Country Store, of Lebanon, Tenn.', 'CompanyID': ''}], 'Distributors': [{'Name': 'CBOCS Distribution Inc., dba Cracker Barrel Old Country Store, of Lebanon, Tenn.', 'CompanyID': ''}], 'SoldAtLabel': None, 'ManufacturerCountries': [{'Country': 'China'}], 'ProductUPCs': [], 'Hazards': [{'Name': 'The metal leaves on top of the pineapples have sharp edges, posing a laceration hazard.', 'HazardType': '', 'HazardTypeID': ''}], 'Remedies': [{'Name': 'Consumers should immediately stop using the recalled pineapples and return them to any Cracker Barrel Old Country Store® for a full refund. Online purchasers will be contacted directly.'}], 'RemedyOptions': [{'Option': 'Refund'}]}, {'RecallID': 2934, 'RecallNumber': '05179', 'RecallDate': '2005-05-20T00:00:00', 'Description': \"May 20, 2005 Release #05-179 Apple's Recall Hotline: (800) 275-2273 CPSC Consumer Hotline: (800) 638-2772CPSC Media Contact: (301) 504-7908 CPSC, Apple Announce Recall of iBook and PowerBook Computer Batteries WASHINGTON, D.C. - The U.S. Consumer Product Safety Commission announces the following recall in voluntary cooperation with the firm below. Consumers should stop using recalled products immediately unless otherwise instructed. It is illegal to resell or attempt to resell a recalled consumer product. Name of Product: Rechargeable batteries for iBook G4 and PowerBook G4 computers. Units: About 128,000 units (in the United States) Computer Manufacturer: Apple Computer Inc., of Cupertino, Calif. Battery Manufacturer: LG Chem Ltd., of South Korea Hazard: An internal short can cause the battery cells to overheat, posing a fire hazard to consumers. Incidents/Injuries: Apple has received six reports worldwide of batteries overheating, including two reports in the United States. Description: The recalled lithium ion batteries are used with the following computers: 12-inch iBook G4, 12-inch PowerBook G4 and 15-inch PowerBook G4. The recalled batteries include those with model numbers A1061, A1078 and A1079 and serial numbers that begin with HQ441 through HQ507 or 3X446 through 3X510. Consumers should remove the battery from the computer to view the model and serial numbers labeled on the bottom of the unit. No other PowerBook or iBook batteries are involved in this recall. Computer model nameBattery model numberBattery serial number range 12-inch iBook G4 A1061 HQ441 - HQ507 12-inch PowerBook G4 A1079 3X446 - 3X510 15-inch PowerBook G4 A1078 3X446 - 3X509 Sold At: National and regional resellers, catalogers, and Apple's online and retail stores sold the computers with the batteries from October 2004 through May 2005 for between $900 to $2300. The batteries also were sold separately for about $130. Assembled in: Taiwan and China Remedy: Consumers should stop using the recalled batteries immediately and contact Apple to arrange for a replacement battery, free of charge. After removing the recalled battery from their iBook or PowerBook, consumers should plug in the AC adapter to power the computer until a replacement battery arrives. Consumer Contact: Contact Apple at (800) 275-2273 between 8 a.m. and 8 p.m. CT Monday through Sunday or log on to Apple's web site at www.apple.com/support/batteryexchange to check your battery's serial number and apply for a replacement battery. 12-inch iBook G4 and battery 12-inch PowerBook G4 and battery 15-inch PowerBook G4 and batter\", 'URL': 'https://www.cpsc.gov/Recalls/2005/CPSC-Apple-Announce-Recall-of-iBook-and-PowerBook-Computer-Batteries', 'Title': 'CPSC, Apple Announce Recall of iBook and PowerBook Computer Batteries', 'ConsumerContact': None, 'LastPublishDate': '2014-05-23T00:00:00', 'Products': [{'Name': '', 'Description': '', 'Model': '', 'Type': 'Adapter/Power Supply/Charger/Battery', 'CategoryID': '1808', 'NumberOfUnits': ''}, {'Name': 'Apple rechargeable batteries for iBook G4 and PowerBook G4 computers', 'Description': '', 'Model': '', 'Type': 'Computer Equipment', 'CategoryID': '1893', 'NumberOfUnits': ''}], 'Inconjunctions': [], 'Images': [], 'Injuries': [], 'Manufacturers': [{'Name': 'Apple', 'CompanyID': ''}, {'Name': 'LG Chem', 'CompanyID': ''}], 'Retailers': [], 'Importers': [], 'Distributors': [], 'SoldAtLabel': None, 'ManufacturerCountries': [{'Country': 'China'}, {'Country': 'Taiwan'}], 'ProductUPCs': [], 'Hazards': [{'Name': 'Fire & Fire-Related Burn', 'HazardType': '', 'HazardTypeID': ''}], 'Remedies': [], 'RemedyOptions': []}, {'RecallID': 2672, 'RecallNumber': '04201', 'RecallDate': '2004-08-19T00:00:00', 'Description': \"August 19, 2004Release # 04-201 Apple Recall Hotline: (800) 275-2273 CPSC Consumer Hotline: (800) 638-2772 CPSC Media Contact: (301) 504-7908 CPSC, Apple Announce Recall of PowerBook Computer Batteries WASHINGTON, D.C. - The U.S. Consumer Product Safety Commission announces the following recall in voluntary cooperation with the firm below. Consumers should stop using recalled products immediately unless otherwise instructed. It is illegal to resell or attempt to resell a recalled consumer product. Name of product: Rechargeable batteries used in 15-inch PowerBook G4 computers Units: About 28,000 Computer Manufacturer: Apple Computer Inc., of Cupertino, Calif.Battery Manufacturer: LG Chem Ltd., of South Korea Problem: An internal short can cause the battery cells to overheat, posing a fire hazard to consumers.Incidents/Injuries: Apple has received four reports of batteries overheating, though no injuries have been reported. Description: The recalled batteries are used with the 15-inch PowerBook G4 (Aluminum) laptop computer. The batteries, which contain cells manufactured during the last week of December 2003 only, have the model number A1045 and serial numbers that begin with HQ404, HQ405, HQ406, HQ407, or HQ408. The model and serial numbers can be found on a label on the bottom of the battery. The battery is approximately 4 ¾ inches long, 3 ¼ inches wide, and ¾ inches tall. No other PowerBook or iBook batteries are involved in this recall. Sold at: National and regional resellers, catalogers, and Apple's online and retail stores sold the computers with the batteries from January 2004 through August 2004 for between $2000 and $2600. The batteries also were sold separately for about $130. Assembled in: Taiwan Remedy: Consumers should stop using the recalled batteries immediately and contact Apple to arrange for a replacement battery, free of charge. Consumer Contact: Contact Apple at (800) 275-2273 between 8 a.m. and 8 p.m. CT Monday through Sunday or log on to Apple's Web site at www.apple.com/support/powerbook/batteryexchang\", 'URL': 'https://www.cpsc.gov/Recalls/2004/CPSC-Apple-Announce-Recall-of-PowerBook-Computer-Batteries-', 'Title': 'CPSC, Apple Announce Recall of PowerBook Computer Batteries', 'ConsumerContact': None, 'LastPublishDate': '2014-05-23T00:00:00', 'Products': [{'Name': '', 'Description': '', 'Model': '', 'Type': 'Adapter/Power Supply/Charger/Battery', 'CategoryID': '1808', 'NumberOfUnits': ''}, {'Name': 'Rechargeable batteries in 15-inch Apple PowerBook G4 laptop computers', 'Description': '', 'Model': '', 'Type': 'Computer Equipment', 'CategoryID': '1893', 'NumberOfUnits': ''}], 'Inconjunctions': [], 'Images': [], 'Injuries': [], 'Manufacturers': [{'Name': 'Apple', 'CompanyID': ''}, {'Name': 'LG Chem', 'CompanyID': ''}], 'Retailers': [], 'Importers': [], 'Distributors': [], 'SoldAtLabel': None, 'ManufacturerCountries': [{'Country': 'Taiwan'}], 'ProductUPCs': [], 'Hazards': [{'Name': 'Fire & Fire-Related Burn', 'HazardType': '', 'HazardTypeID': ''}], 'Remedies': [], 'RemedyOptions': []}, {'RecallID': 2773, 'RecallNumber': '04574', 'RecallDate': '2004-08-18T00:00:00', 'Description': 'Seventh Avenue Inc. Recall of Kitchen Krumblers Candle Recall Alert U.S. Consumer Product Safety Commission Office of Information and Public Affairs Washington, DC 20207 August 18, 2004 Alert #04-574 CPSC, Seventh Avenue Inc. Announce Recall of Kitchen Krumblers Candle The following product safety recall was conducted voluntarily by the firm in cooperation with the CPSC. Consumers should stop using the product immediately unless otherwise instructed. It is illegal to resell or attempt to resell a recalled consumer product. Name of product: Kitchen Krumblers Apple Cinnamon Candle Units: About 1,200 units Manufacturer/Importer: Mostly Memories Inc., of Ozark, Mo. Hazard: The dried apples and cinnamon in the candle can ignite causing a flare up and breaking the glass, posing a fire hazard. INCIDENTS/INJURIES: Three reports have been received of a candle flaring up, breaking the glass, and spreading fire. No injuries have been reported. Description: The scented candle is housed in a clear glass holder and has a crumbled appearance with color variations. It contains slices of dried apple and cinnamon sticks in the wax. The candle is 3 inches in diameter and 3.5 inches high. \"Kitchen Krumblers\" is labeled at the base of the candle. The candle was sold separately or in a set with another candle not involved in this recall. Sold at: The Country Door Catalog and Web site from February 2004 through May 2004 for about $12. Manufactured In: USA Remedy: Consumers should stop using the candle and return it to Country Door for a refund. Consumer Contact: For more information, contact Country Door at (800) 659-6473 between 8 a.m. and 12 a.m. CT.', 'URL': 'https://www.cpsc.gov/Recalls/2004/CPSC-Seventh-Avenue-Inc-Announce-Recall-of-Kitchen-Krumblers-Candle-', 'Title': 'Seventh Avenue Inc. Recall of Kitchen Krumblers Candle', 'ConsumerContact': None, 'LastPublishDate': '2014-05-23T00:00:00', 'Products': [{'Name': 'Mostly Memories Kitchen Krumblers Apple Cinnamon Candles', 'Description': '', 'Model': '', 'Type': 'Candles & Candle Holders', 'CategoryID': '1872', 'NumberOfUnits': ''}], 'Inconjunctions': [], 'Images': [], 'Injuries': [], 'Manufacturers': [{'Name': 'Mostly Memories', 'CompanyID': ''}, {'Name': 'Seventh Avenue', 'CompanyID': ''}, {'Name': 'Country Door', 'CompanyID': ''}], 'Retailers': [], 'Importers': [], 'Distributors': [], 'SoldAtLabel': None, 'ManufacturerCountries': [{'Country': 'United States'}], 'ProductUPCs': [], 'Hazards': [{'Name': 'Fire & Fire-Related Burn', 'HazardType': '', 'HazardTypeID': ''}], 'Remedies': [], 'RemedyOptions': []}, {'RecallID': 2209, 'RecallNumber': '02239', 'RecallDate': '2002-08-29T00:00:00', 'Description': 'Apple Slicer/Corer Recalled by Leifheit International USA NEWS from CPSC U.S. Consumer Product Safety Commission Office of Information and Public Affairs Washington, DC 20207 FOR IMMEDIATE RELEASE August 29, 2002 Release # 02-239 Leifheit\\'s Recall Hotline: (866) 695-3434 CPSC Consumer Hotline: (800) 638-2772 CPSC Media Contact: Kim Dulic, (301) 504-7058 CPSC, Leifheit International USA Announce Recall of Apple Slicer/Corer WASHINGTON, D.C. - In cooperation with the U.S. Consumer Product Safety Commission (CPSC), Leifheit International USA Inc., of Melville, N.Y., is voluntarily recalling about 31,000 apple slicers/corers. The cutting blade can separate from the center-coring ring during use causing cuts to consumers\\' hands and fingers. Leifheit has received two reports of the blades separating, resulting in minor cuts to the user\\'s fingers. The recall includes Pro Line apple slicers/corers. The slicers/corers are made of shiny chrome metal with two handles. \"Leifheit\" is printed on the top of one handle. A symbol code on the underside of the slicer/corer shows a number and dot sequence indicating the date of manufacture. Any product with a \"1\" or those with a \"2\" accompanied by one or two dots are included in the recall. Houseware and gourmet cooking stores sold the slicers/corers nationwide from January 2001 to July 2002 for about $18. Consumers should stop using these apple slicers/corers immediately and return them to either the place of purchase or the company. Consumers will have their choice of receiving a replacement or a refund. For more information, consumers can contact Leifheit at (866) 695-3434 between 9 a.m. and 5 p.m. ET Monday through Friday. Symbol Code', 'URL': 'https://www.cpsc.gov/Recalls/2002/CPSC-Leifheit-International-USA-Announce-Recall-of-Apple-SlicerCorer-', 'Title': 'Apple Slicer/Corer Recalled by Leifheit International USA', 'ConsumerContact': None, 'LastPublishDate': '2014-05-23T00:00:00', 'Products': [{'Name': 'Leifheit Pro Line apple slicers/corers', 'Description': '', 'Model': '', 'Type': 'Food Dehydrator/Preserver/Processor', 'CategoryID': '1951', 'NumberOfUnits': ''}], 'Inconjunctions': [], 'Images': [], 'Injuries': [], 'Manufacturers': [{'Name': 'Leifheit International', 'CompanyID': ''}], 'Retailers': [], 'Importers': [], 'Distributors': [], 'SoldAtLabel': None, 'ManufacturerCountries': [], 'ProductUPCs': [], 'Hazards': [{'Name': 'Laceration', 'HazardType': '', 'HazardTypeID': ''}], 'Remedies': [], 'RemedyOptions': []}, {'RecallID': 873, 'RecallNumber': '01188', 'RecallDate': '2001-07-06T00:00:00', 'Description': 'July 6, 2001Release # 01-188 Apple Recall Hotline: (866) 277-2096 CPSC Consumer Hotline: (800) 638-2772 CPSC Media Contact: Mark Ross, (301) 504-7076 Apple Media Contact: Nathalie Welch, (408) 974-5430 or welch@apple.com CPSC, Apple Announces Recall of AC Adapter for Prior Generation PowerBook Laptops WASHINGTON, D.C. - In cooperation with the U.S. Consumer Product Safety Commission (CPSC), Apple, of Cupertino, Calif., is voluntarily recalling about 570,000 AC adapters worldwide that were sold with prior generation PowerBook G3s. These AC adapters could overheat, posing a fire hazard.Apple received six reports of these adapters overheating. No injuries have been reported.No Titanium PowerBook G4 or iBook power adapters are part of this recall. The recall includes only AC adapters with a two-pin connector that came with Apple Macintosh PowerBooks or that were sold separately. The small rectangular black AC adapter box has a permanently attached cord on one end that connects to the computer and a detachable two-prong cord on the other end to plug into an AC outlet. It is approximately 4.75 inches long by 2 inches wide. The label located on the side of the adapter reads in part, \"Macintosh PowerBook 45W AC Adapter\" and \"Model Number: M4402.\" Electronic and computer stores worldwide and Apple\\'s web site sold these AC adapters with PowerBook G3s from May 1998 through March 2000. They also were sold separately for about $69.Consumers should stop using these AC adapters and contact Apple to receive a free replacement. For more information, contact Apple at (866) 277-2096 between 8 a.m. and 8 p.m. CT Sunday through Saturday, or go to their web site at www.apple.com/adapterexchange/', 'URL': 'https://www.cpsc.gov/Recalls/2001/CPSC-Apple-Announces-Recall-of-AC-Adapter-for-Prior-Generation-PowerBook-Laptops', 'Title': 'CPSC, Apple Announces Recall of AC Adapter for Prior Generation PowerBook Laptops', 'ConsumerContact': None, 'LastPublishDate': '2014-05-23T00:00:00', 'Products': [{'Name': 'Apple Macintosh PowerBook 45W AC Adapter', 'Description': '', 'Model': '', 'Type': 'Adapter/Power Supply/Charger/Battery', 'CategoryID': '1808', 'NumberOfUnits': ''}], 'Inconjunctions': [], 'Images': [], 'Injuries': [], 'Manufacturers': [{'Name': 'Apple', 'CompanyID': ''}], 'Retailers': [], 'Importers': [], 'Distributors': [], 'SoldAtLabel': None, 'ManufacturerCountries': [], 'ProductUPCs': [], 'Hazards': [{'Name': 'Fire & Fire-Related Burn', 'HazardType': '', 'HazardTypeID': ''}], 'Remedies': [], 'RemedyOptions': []}, {'RecallID': 5531, 'RecallNumber': '94056', 'RecallDate': '1994-04-07T00:00:00', 'Description': 'APRIL 7, 1994 Release # 94-056 PRODUCT: About 200,000 disposable \"tractor trailer\" novelty cigarette lighters imported by GOLDEN APPLE XXCO. The lighters sold at convenience stores nationwide from December 1993 through March 1994. The lighters are tractor trailer-shaped with five pairs of tiny wheels on one edge. One side has one of three tractor trailer pictures: \"American Spirit\" shows a red tractor trailer together with the head of an eagle; \"Truck Country\" shows a tractor trailer together with a flag of the United States; and \"Midnight Rider\" shows a tractor trailer in front of a full moon. The flue of the lighter is engraved with an apple figure and the word \"apple.\" A caution sticker on the back states \"Made in Philippines.\" PROBLEM: The tractor trailer-shaped lighters are very attractive to children who could easily mistake them for toys. If a child plays with the lighter, a fire and/or serious burn injuries may result. WHAT TO DO: Put the lighters out of reach of children. Then return the lighters to the store where purchased for a free gift. WASHINGTON, DC -- CPSC, GOLDEN APPLE XXCO., Industry, CA, is voluntarily recalling novelty cigarette lighters in the shape of tractor trailer trucks. The lighters, complete with five pairs of tiny wheels on one edge and a picture of a tractor trailer on the side are very attractive to children and may invite play. If a child plays with the lighter, a fire and/or serious burn injuries may result. There are three designs of the tractor trailer-shaped lighter, each printed with a different tractor trailer and the words \"American Spirit,\" \"Truck Country,\" or \"Midnight Rider.\" \"American Spirit\" shows a red tractor trailer truck together with the head of an eagle, \"Truck Country\" shows an American flag together with a tractor trailer, and \"Midnight Rider\" shows a tractor trailer in front of a full moon. The flue of the lighter is engraved with an apple figure and the word \"apple.\" A caution sticker on the back of the lighter states \"Made in Philippines.\" The imported tractor trailer-shaped cigarette lighters sold for about $1.50 in convenience stores nationwide from December 1993 through March 1994. Approximately 200,000 products were sold to consumers. The Connecticut Department of Consumer Protection referred a complaint to the Commission from the Deputy Fire Marshal of Plymouth, CT. Consumers should first be sure the lighters are in a secure place -- out of reach from children. Then return the lighters to the store where purchased for a free gift. CPSC is announcing this recall as a part of its mission to protect the public from unreasonable risks of injury and death associated with consumer products. The Commission\\'s objective is to reduce the estimated 28.6 million injuries and 21,700 deaths associated each year with the 15,000 different types of consumer products under CPSC\\'s jurisdiction', 'URL': 'https://www.cpsc.gov/Recalls/1994/Novelty-Tractor-Trailer-Cigarette-Lighters-Recalled', 'Title': 'Novelty \"Tractor Trailer\" Cigarette Lighters Recalled', 'ConsumerContact': None, 'LastPublishDate': '2015-02-18T00:00:00', 'Products': [{'Name': 'Golden Apple American Spirit disposable tractor trailer cigarette lighters', 'Description': '', 'Model': '', 'Type': '', 'CategoryID': '', 'NumberOfUnits': ''}, {'Name': 'Golden Apple Midnight Rider disposable tractor trailer cigarette lighters', 'Description': '', 'Model': '', 'Type': '', 'CategoryID': '', 'NumberOfUnits': ''}, {'Name': 'Golden Apple Truck Country disposable tractor trailer cigarette lighters', 'Description': '', 'Model': '', 'Type': 'Lighters', 'CategoryID': '2028', 'NumberOfUnits': ''}], 'Inconjunctions': [], 'Images': [], 'Injuries': [], 'Manufacturers': [{'Name': 'Golden Apple XXCO', 'CompanyID': ''}], 'Retailers': [], 'Importers': [], 'Distributors': [], 'SoldAtLabel': None, 'ManufacturerCountries': [{'Country': 'Philippines'}], 'ProductUPCs': [], 'Hazards': [{'Name': 'Fire & Fire-Related Burn', 'HazardType': '', 'HazardTypeID': ''}], 'Remedies': [], 'RemedyOptions': []}]\n"
          ]
        }
      ]
    },
    {
      "cell_type": "markdown",
      "metadata": {
        "id": "CWk9ceyRgGP_"
      },
      "source": [
        "## Wrangling the Data\n",
        "\n",
        "Piping the data to Pandas is easy, because the preceding code chunk put the JSON data into a native Python dictionary, and the following converts it to a dataframe:\n",
        "\n",
        "    df = pd.DataFrame.from_dict(data)\n",
        "\n",
        "If the data is in raw XML or JSON format --- which might especially be true with other API's --- it would instead be \\texttt{pd.read\\_xml(data)} or \\texttt{pd.read\\_json(data)}. Ironing out these details in advance for other applications is a key part of the presentation for students, but having students resolve these issues as a component of group work or an assignment is a great way to help them mature as coding problem solvers by struggling with documentation and a well-defined problem.\n",
        "\n",
        "Unfortunately, there aren't many non-text fields in the \\texttt{www.saferproducts.gov} data. However, there are a few fields of interest that can be tabulated and discussed, such as RemedyOptions and ManufacturerCountries:\n",
        "\n",
        "    df['RemedyOptions'].value_counts()\n",
        "\n",
        "with output\n",
        "\n",
        "    RemedyOptions\n",
        "    []                                                                               139\n",
        "    [{'Option': 'Repair'}]                                                            49\n",
        "    [{'Option': 'Replace'}]                                                           12\n",
        "    [{'Option': 'Refund'}]                                                             7\n",
        "    [{'Option': 'Replace'}, {'Option': 'Repair'}]                                      4\n",
        "    [{'Option': 'Refund'}, {'Option': 'Replace'}, {'Option': 'Repair'}]                1\n",
        "    [{'Option': 'Replace'}, {'Option': 'Refund'}]                                      1\n",
        "    [{'Option': 'Refund'}, {'Option': 'Repair'}]                                       1\n",
        "    [{'Option': 'Label'}]                                                              1\n",
        "    [{'Option': 'New Instructions'}, {'Option': 'Replace'}, {'Option': 'Refund'}]      1\n",
        "    Name: count, dtype: int64\n",
        "\n",
        "It's appropriate at this point to do some data cleaning, particularly by flattening dictionary entries. With response data that get converted from json to a dictionary, there are often values in the data frame that need to be flattened or unpacked. For example, some values are recorded as \\texttt{ [$\\{$'Country':'Canada'$\\}$]}, or, worse, a dictionary with multiple entries: \\texttt{[ $\\{$ 'Option': 'Replace'$\\}$, $\\{$'Option': 'Repair'$\\}$]  ] }. This can lead to problems when another package refuses to work with a lists of lists or doesn't know how to simplify a dictionary to data, and presents some conceptual questions when cleaning.\n",
        "\n",
        "A simple script to recursively collapse the dictionary entries into a single string is:\n",
        "\n",
        "    temp = df['RemedyOptions']\n",
        "    clean_values = []\n",
        "    for i in range(len(temp)):\n",
        "        if len(temp[i])>0:\n",
        "            values = []\n",
        "            for j in range(len(temp[i])):\n",
        "                values.append(temp[i][j]['Option'] )\n",
        "            clean_values.append(values)\n",
        "        else:\n",
        "            clean_values.append('')\n",
        "    df['remedy'] = clean_values\n",
        "\n",
        "**3. Convert this code chunk into a function you can reuse to flatten dictionaries, or explain clearly the problems you run into while attempting to do so. Make some tables or plots.**\n"
      ]
    },
    {
      "cell_type": "code",
      "source": [
        "import pandas as pd\n",
        "\n",
        "def flatten():\n",
        "  temp = df['RemedyOptions']\n",
        "  clean_values = []\n",
        "  for i in range(len(temp)):\n",
        "    if len(temp[i])>0:\n",
        "        values = []\n",
        "        for j in range(len(temp[i])):\n",
        "            values.append(temp[i][j]['Option'] )\n",
        "        clean_values.append(values)\n",
        "    else:\n",
        "        clean_values.append('')\n",
        "  df['remedy'] = clean_values\n",
        "\n",
        "df = pd.DataFrame.from_dict(data)\n",
        "print(df['RemedyOptions'].value_counts())\n",
        "flatten()\n",
        "\n",
        "# Putting the code provided into a function wouldn't work because the df isn't instantiated inside the function itself. If df is assigned a value before the method call, then it will compile correctly.\n",
        "\n"
      ],
      "metadata": {
        "id": "v5YQn_MRSg9v",
        "outputId": "341ea6eb-88c6-4c4d-9e7c-39f22afbed63",
        "colab": {
          "base_uri": "https://localhost:8080/"
        }
      },
      "execution_count": 10,
      "outputs": [
        {
          "output_type": "stream",
          "name": "stdout",
          "text": [
            "RemedyOptions\n",
            "[]                         6\n",
            "[{'Option': 'Refund'}]     3\n",
            "[{'Option': 'Replace'}]    1\n",
            "Name: count, dtype: int64\n"
          ]
        }
      ]
    },
    {
      "cell_type": "markdown",
      "metadata": {
        "id": "glTQ8P7ggGP_"
      },
      "source": [
        "## Dashboarding the Results (Optional)\n",
        "\n",
        "To complete the pipeline from data to product, we can use \\texttt{streamlit} to quickly convert Python code into a web page that can be accessed locally. This can be done with essentially three lines of code: An import statement, a $.title()$ method call to set the page title, and an $.write()$ call to push the results to the page. Although relatively static, completing this step serves a pedogogical and psychological purpose: It pivots the students to thinking about how to communicate results to an audience, and how the project could become an ongoing endeavor rather than a single analytical exercise.\n",
        "\n",
        "The entire .py file to create the dashboard is\n",
        "\n",
        "    import pandas as pd\n",
        "    import requests\n",
        "    import streamlit as st\n",
        "    # Conduct analysis:\n",
        "    url = 'https://www.saferproducts.gov/RestWebServices/Recall'\n",
        "    query = '?format=json&RecallTitle=Gas'\n",
        "    header = {'User-Agent':\n",
        "              'Mozilla/5.0 (Windows NT 10.0; Win64; x64; rv:124.0) Gecko/20100101 Firefox/124.0'}\n",
        "    raw = requests.get(url+query,headers=header)\n",
        "    data = raw.json()\n",
        "    df = pd.DataFrame.from_dict(data)\n",
        "    temp = df['RemedyOptions']\n",
        "    clean_values = []\n",
        "    for i in range(len(temp)):\n",
        "        if len(temp[i])>0:\n",
        "            values = []\n",
        "            for j in range(len(temp[i])):\n",
        "                values.append(temp[i][j]['Option'] )\n",
        "            clean_values.append(values)\n",
        "        else:\n",
        "            clean_values.append('')\n",
        "    df['remedy'] = clean_values\n",
        "    remedy_counts = df['remedy'].value_counts()\n",
        "    # Create streamlit output:\n",
        "    st.title('Remedy Statistics')\n",
        "    st.write(remedy_counts)\n",
        "\n",
        "To create the web page, run the following at the command line:\n",
        "\n",
        "    streamlit run remedy.py\n",
        "\n",
        "This should convert the above analysis into a web page available from localhost.\n",
        "\n",
        "**4. Produce your own table or plot, and output it to streamlit.**"
      ]
    },
    {
      "cell_type": "code",
      "source": [
        "import pandas as pd\n",
        "import requests\n",
        "import streamlit as st\n",
        "# Conduct analysis:\n",
        "url = 'https://www.saferproducts.gov/RestWebServices/Recall'\n",
        "query = '?format=json&RecallTitle=Gas'\n",
        "header = {'User-Agent':\n",
        "          'Mozilla/5.0 (Windows NT 10.0; Win64; x64; rv:124.0) Gecko/20100101 Firefox/124.0'}\n",
        "raw = requests.get(url+query,headers=header)\n",
        "data = raw.json()\n",
        "df = pd.DataFrame.from_dict(data)\n",
        "temp = df['RemedyOptions']\n",
        "clean_values = []\n",
        "for i in range(len(temp)):\n",
        "    if len(temp[i])>0:\n",
        "        values = []\n",
        "        for j in range(len(temp[i])):\n",
        "            values.append(temp[i][j]['Option'] )\n",
        "        clean_values.append(values)\n",
        "    else:\n",
        "        clean_values.append('')\n",
        "df['remedy'] = clean_values\n",
        "remedy_counts = df['remedy'].value_counts()\n",
        "# Create streamlit output:\n",
        "st.title('Remedy Statistics')\n",
        "st.write(remedy_counts)\n",
        "\n",
        "streamlit run remedy.py"
      ],
      "metadata": {
        "id": "INjwSKqeWmj2",
        "outputId": "cea375b5-a06d-409b-8b38-91c2cfbb7c50",
        "colab": {
          "base_uri": "https://localhost:8080/",
          "height": 106
        }
      },
      "execution_count": 12,
      "outputs": [
        {
          "output_type": "error",
          "ename": "SyntaxError",
          "evalue": "invalid syntax (<ipython-input-12-a14887c98d87>, line 28)",
          "traceback": [
            "\u001b[0;36m  File \u001b[0;32m\"<ipython-input-12-a14887c98d87>\"\u001b[0;36m, line \u001b[0;32m28\u001b[0m\n\u001b[0;31m    streamlit run remedy.py\u001b[0m\n\u001b[0m              ^\u001b[0m\n\u001b[0;31mSyntaxError\u001b[0m\u001b[0;31m:\u001b[0m invalid syntax\n"
          ]
        }
      ]
    },
    {
      "cell_type": "markdown",
      "metadata": {
        "id": "1ogbrOZYgGP_"
      },
      "source": [
        "## Other API Sources\n",
        "\n",
        "Valuable and interesting Federal API resources are listed at:\n",
        "\n",
        "    https://catalog.data.gov/dataset/?_res_format_limit=0&res_format=API\n",
        "\n",
        "and in the future will likely easily be found at \\texttt{data.gov}. Some highlights include:\n",
        "\n",
        "- CDC WONDER API for Data Query Web Service: Includes death certificates with causes since approximately the 1990's.\n",
        "- Comprehensive Housing Affordability Strategy (CHAS): Housing and Urban Development (HUD) maintains an API that provides Census data on housing problems and needs unavailable through other sources, including IPUMS.\n",
        "- Federal Election Commission API: Provides historical and up to the minute campaign finance data.\n",
        "- Toxic Release Inventory: Provided by the Environmental Protection Agency, this API documents the release and management of over 800 toxic substances, reported annually by privately owned facilities and the government.\n",
        "- Petroleum Data, Prices: Provides prices of petroleum products and crude oil at weekly, monthly, and yearly time scales.\n",
        "- Fair Market Rents Lookup tool: Fair Market Rents (FMRs) determine the value of housing vouchers for Section 8 renters. This API provides the FMR values and other measures of housing affordability.\n",
        "- Annual Economic Surveys, Business Patterns: Surveys of businesses at the zip code level, tracking economic sentiment and activity.\n",
        "- Food Access Research Atlas: Provides spatial data on food access and the availability of supermarkets within census tracts. Can be merged with census data to look at under-served populations and food deserts.\n",
        "- National Oceanographic and Atmospheric Administration: Provides API access to data on real time weather and climate change projections.\n",
        "\n",
        "Each of these API resources could either be the cornerstone of a project or a source of additional data. These data sources have a number of advantages: They're free, most of them can be accessed using the same API key, and most have similar documentation for how to write a query. This is ideal for students to iterate, experiment, and take risks, with little cost to failure.\n",
        "\n",
        "In addition to government data, many commerical apps provide API access to developers and researchers. AirBnB, Amazon, Reddit, eBay, X, and many others maintain API access to develop third-party apps. These opportunities present many advantages: The data are larger, have more variety, and there are vastly many more cases. Building a third-party app that includes analytics could easily consume an entire semester and open a variety of applications in predictive analytics, natural language processing, and generative AI (e.g. predict which reviews are fake or real for Amazon for a product group like ``women's watches', and then make recommendations for different price points). While an exciting possibility, this can also raise a lot of problems: Some API's cost money or are rate-limited depending on a subscription, and others impose significant constraints on how the data can be used. In some cases, a more useful approach might be explicit web scraping using a package like BeautifulSoup or Selenium. For example, Craigslist has no API, but can easily and productively be scraped using BeautifulSoup.\n",
        "\n",
        "**5. Pick an API, download some data, wrangle them, and produce some EDA results, as we did in the previous steps with the saferproducts.gov API; or, if you can't get it to work, document why. If you have the time and it's low cost, push the results to a streamlit page. If you have had enough, I recommend https://www.eia.gov/opendata/browser/electricity, since there is a friendly query builder that you can use to learn.**"
      ]
    }
  ],
  "metadata": {
    "language_info": {
      "name": "python"
    },
    "colab": {
      "provenance": []
    },
    "kernelspec": {
      "name": "python3",
      "display_name": "Python 3"
    }
  },
  "nbformat": 4,
  "nbformat_minor": 0
}